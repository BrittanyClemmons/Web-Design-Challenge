{
 "cells": [
  {
   "cell_type": "markdown",
   "metadata": {},
   "source": [
    "Using chromedriver to navigate to target website"
   ]
  },
  {
   "cell_type": "code",
   "execution_count": 50,
   "metadata": {},
   "outputs": [],
   "source": [
    "from splinter import Browser\n",
    "from bs4 import BeautifulSoup\n",
    "import pandas as pd"
   ]
  },
  {
   "cell_type": "code",
   "execution_count": 51,
   "metadata": {},
   "outputs": [],
   "source": [
    "executable_path = {'executable_path': 'chromedriver.exe'}\n",
    "browser = Browser('chrome', **executable_path, headless=False)"
   ]
  },
  {
   "cell_type": "code",
   "execution_count": 52,
   "metadata": {},
   "outputs": [],
   "source": [
    "url = 'https://careers.google.com/jobs/results/'\n",
    "browser.visit(url)"
   ]
  },
  {
   "cell_type": "code",
   "execution_count": 53,
   "metadata": {},
   "outputs": [],
   "source": [
    "html = browser.html\n",
    "soup = BeautifulSoup(html, 'html.parser')\n",
    "\n",
    "search_results = soup.find('ol', class_='gc-p-results__results-list')\n",
    " \n",
    "\n",
    "listings = search_results.find('li')"
   ]
  },
  {
   "cell_type": "code",
   "execution_count": 58,
   "metadata": {},
   "outputs": [
    {
     "name": "stdout",
     "output_type": "stream",
     "text": [
      "['Share\\n              \\n            Save\\n             \\n      Software Engineer\\n          Google        \\n          San Francisco\\n         ,\\xa0 \\n          CA\\n         ,\\xa0 \\n          USA\\n              \\n          Mountain View\\n         ,\\xa0 \\n          CA\\n         ,\\xa0 \\n          USA\\n              \\n          San Bruno\\n         ,\\xa0 \\n          CA\\n         ,\\xa0 \\n          USA\\n            \\n      + 2 more locations\\n         \\n      Qualifications:\\n     \\nBS degree in Computer Science, similar technical field of study or equivalent practical experience.\\nSoftware development experience in one or more general purpose programming languages.\\nExperience working with two or more from the following: web application development, Unix/Linux environments, mobile application development, distributed and parallel systems, machine learning, information retrieval, natural language processing, networking, developing large software systems, and/or security software development.\\nWorking proficiency and communication skills in verbal and written English.\\n \\n        Expand']\n"
     ]
    }
   ],
   "source": [
    "jobs_list = []\n",
    "\n",
    "for result in listings:\n",
    "    job = result.text.strip()\n",
    "    jobs_list.append(job)\n",
    "    \n",
    "print(jobs_list)"
   ]
  },
  {
   "cell_type": "code",
   "execution_count": null,
   "metadata": {},
   "outputs": [],
   "source": []
  }
 ],
 "metadata": {
  "kernelspec": {
   "display_name": "Python [conda env:PythonData] *",
   "language": "python",
   "name": "conda-env-PythonData-py"
  },
  "language_info": {
   "codemirror_mode": {
    "name": "ipython",
    "version": 3
   },
   "file_extension": ".py",
   "mimetype": "text/x-python",
   "name": "python",
   "nbconvert_exporter": "python",
   "pygments_lexer": "ipython3",
   "version": "3.7.4"
  }
 },
 "nbformat": 4,
 "nbformat_minor": 2
}
